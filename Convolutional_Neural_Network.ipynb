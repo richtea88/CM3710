{
  "nbformat": 4,
  "nbformat_minor": 0,
  "metadata": {
    "colab": {
      "name": "Convolutional Neural Network.ipynb",
      "provenance": [],
      "collapsed_sections": [],
      "mount_file_id": "1bG9H0KAfuobx2tj-yztmN1ViPWaUXUrt",
      "authorship_tag": "ABX9TyO3VOD+CgD/qQjb+SklwLmJ",
      "include_colab_link": true
    },
    "kernelspec": {
      "name": "python3",
      "display_name": "Python 3"
    },
    "language_info": {
      "name": "python"
    }
  },
  "cells": [
    {
      "cell_type": "markdown",
      "metadata": {
        "id": "view-in-github",
        "colab_type": "text"
      },
      "source": [
        "<a href=\"https://colab.research.google.com/github/richtea88/CM3710/blob/main/Convolutional_Neural_Network.ipynb\" target=\"_parent\"><img src=\"https://colab.research.google.com/assets/colab-badge.svg\" alt=\"Open In Colab\"/></a>"
      ]
    },
    {
      "cell_type": "markdown",
      "source": [
        "# Richard Thomson - 0603831 - CM3710 - Machine Learning & AI\n",
        "## Convolutional Neural Network (script 2 of 2)"
      ],
      "metadata": {
        "id": "ub1wkk55ZxAH"
      }
    },
    {
      "cell_type": "code",
      "execution_count": 2,
      "metadata": {
        "id": "KwT9AXyWYYgu"
      },
      "outputs": [],
      "source": [
        "# Import Libraries\n",
        "from tensorflow import keras\n",
        "from tensorflow.keras import layers\n",
        "from tensorflow.keras.models import Sequential\n",
        "import tensorflow as tf\n",
        "\n",
        "import matplotlib.pyplot as plt\n",
        "import pandas as pd\n",
        "import PIL\n",
        "\n",
        "from statistics import harmonic_mean\n",
        "\n",
        "from os import path\n",
        "import os\n",
        "import numpy as np"
      ]
    },
    {
      "cell_type": "code",
      "source": [
        "# Setting Constants\n",
        "# DATA_DIR should be set to the location of the provided Training and Validation data set\n",
        "# EVAL_DIR should be set to te location of the provided Evaluation data set\n",
        "DATA_DIR = '/content/drive/MyDrive/Train_Test_Coursework/'\n",
        "EVAL_DIR = '/content/drive/MyDrive/Evaluation Data Set/'\n",
        "batch_size = 12\n",
        "img_height = 1000 # 1900\n",
        "img_width = 1200 # 2300\n",
        "channels = 3\n",
        "\n",
        "# Displays plots inline in notework instead of in a new window\n",
        "%matplotlib inline"
      ],
      "metadata": {
        "id": "E40rQeCphZ3R"
      },
      "execution_count": 3,
      "outputs": []
    },
    {
      "cell_type": "code",
      "source": [
        "# Load training / validation \n",
        "if channels == 3:\n",
        "  c_mode = \"rgb\"\n",
        "elif channels == 4:\n",
        "  c_mode = \"rgba\"\n",
        "elif channels == 1:\n",
        "  c_mode = \"grayscale\"\n",
        "else:\n",
        "  channels = 1\n",
        "  c_mode = \"grayscale\"\n",
        "\n",
        "train_ds = tf.keras.utils.image_dataset_from_directory(\n",
        "  DATA_DIR,\n",
        "  validation_split=0.2,\n",
        "  subset=\"training\",\n",
        "  seed=123,\n",
        "  color_mode=c_mode,\n",
        "  image_size=(img_height, img_width),\n",
        "  batch_size=batch_size)\n",
        "\n",
        "val_ds = tf.keras.utils.image_dataset_from_directory(\n",
        "  DATA_DIR,\n",
        "  validation_split=0.2,\n",
        "  subset=\"validation\",\n",
        "  seed=123,\n",
        "  color_mode=c_mode,\n",
        "  image_size=(img_height, img_width),\n",
        "  batch_size=batch_size)\n",
        "\n",
        "# Class names from folder structure\n",
        "class_names = train_ds.class_names\n",
        "print(class_names)\n",
        "\n",
        "# number of classes\n",
        "num_classes = len(class_names)\n"
      ],
      "metadata": {
        "colab": {
          "base_uri": "https://localhost:8080/"
        },
        "id": "FOBjx_7iht5-",
        "outputId": "cad64052-99b0-49dd-ffe3-912a34bd4658"
      },
      "execution_count": 4,
      "outputs": [
        {
          "output_type": "stream",
          "name": "stdout",
          "text": [
            "Found 200 files belonging to 4 classes.\n",
            "Using 160 files for training.\n",
            "Found 200 files belonging to 4 classes.\n",
            "Using 40 files for validation.\n",
            "['Detail Drawing', 'Isometric', 'Photo', 'Piping and Instrumentation Diagram']\n"
          ]
        }
      ]
    },
    {
      "cell_type": "code",
      "source": [
        "# performance optimisation \n",
        "# https://www.tensorflow.org/guide/data_performance\n",
        "AUTOTUNE = tf.data.AUTOTUNE\n",
        "# caching images with prefetch - buffer size determines by Autotune\n",
        "train_ds = train_ds.cache().shuffle(1000).prefetch(buffer_size=AUTOTUNE)\n",
        "val_ds = val_ds.cache().prefetch(buffer_size=AUTOTUNE)\n"
      ],
      "metadata": {
        "id": "x-FJbUgHEJi_"
      },
      "execution_count": 5,
      "outputs": []
    },
    {
      "cell_type": "markdown",
      "source": [
        "I tested a number of different pre-processing techniques. I found that horizontal and vertical improved the models performance, but random rotation seemed to reduce it. I opted to resize my image rather than centre crop as this also seemed to increase performance."
      ],
      "metadata": {
        "id": "GAdVhtIqk-kG"
      }
    },
    {
      "cell_type": "code",
      "source": [
        "# Defining pre-process layers\n",
        "# data_augmentation layer\n",
        "data_augmentation = tf.keras.Sequential([\n",
        "  layers.RandomFlip(\"horizontal_and_vertical\", input_shape=(img_height, img_width, channels)),\n",
        "  #layers.RandomRotation(0.2), - seemed to reduce model accuracy\n",
        "])\n",
        "\n",
        "# resize_and_rescale\n",
        "resize_and_rescale = tf.keras.Sequential([\n",
        "#layers.Resizing(img_height, img_width),\n",
        "# Opted to crop centre of image rather than resize the image\n",
        "# normalisation of rgb 0-255 to values between 0-1\n",
        "layers.Rescaling(1./255)\n",
        "])\n",
        "\n",
        "# crop centre of image\n",
        "crop_centre = tf.keras.Sequential([\n",
        "    layers.CenterCrop(height=800, width=800)\n",
        "])"
      ],
      "metadata": {
        "id": "mQx3ucG4i7Jj"
      },
      "execution_count": 6,
      "outputs": []
    },
    {
      "cell_type": "markdown",
      "source": [
        "I tested a several different architectures, due to colab limitations I reduced the number of layers, filter sizes and kernel sizes to allow the model to train."
      ],
      "metadata": {
        "id": "6Icx4ZcCldPu"
      }
    },
    {
      "cell_type": "code",
      "source": [
        "# Model Architecture\n",
        "\n",
        "model = Sequential([\n",
        "  data_augmentation,\n",
        "  crop_centre,\n",
        "  resize_and_rescale,\n",
        "  layers.Conv2D(filters=32, kernel_size=(3,3), padding='same', activation='relu'),\n",
        "  layers.MaxPooling2D(),\n",
        "  layers.Conv2D(filters=32, kernel_size=(3,3), padding='same', activation='relu'),\n",
        "  layers.MaxPooling2D(),\n",
        "  layers.Conv2D(filters=64, kernel_size=(3,3), padding='same', activation='relu'),\n",
        "  layers.MaxPooling2D(),\n",
        "  layers.Dropout(0.1),\n",
        "  layers.Flatten(),\n",
        "  layers.Dense(256, activation='relu'),\n",
        "  layers.Dense(num_classes)\n",
        "])\n"
      ],
      "metadata": {
        "id": "cfCdZCcwEkjo"
      },
      "execution_count": 7,
      "outputs": []
    },
    {
      "cell_type": "code",
      "source": [
        "# compile model with adam optimizer\n",
        "# Spare Categorical Cross Entropy for loss - for multiclass label classification\n",
        "# https://www.tensorflow.org/api_docs/python/tf/keras/losses/SparseCategoricalCrossentropy\n",
        "model.compile(optimizer='adam',\n",
        "              loss=tf.keras.losses.SparseCategoricalCrossentropy(from_logits=True),\n",
        "              metrics=['accuracy'])\n"
      ],
      "metadata": {
        "id": "z_OqkBJwEl5k"
      },
      "execution_count": 8,
      "outputs": []
    },
    {
      "cell_type": "code",
      "source": [
        "# Summary of the model with number of trainable and non-trainable parameters\n",
        "model.summary()\n"
      ],
      "metadata": {
        "colab": {
          "base_uri": "https://localhost:8080/"
        },
        "id": "tBpqZCR5Eo6h",
        "outputId": "19fec5b5-e254-4ee8-b424-577ec1f901f1"
      },
      "execution_count": 9,
      "outputs": [
        {
          "output_type": "stream",
          "name": "stdout",
          "text": [
            "Model: \"sequential_3\"\n",
            "_________________________________________________________________\n",
            " Layer (type)                Output Shape              Param #   \n",
            "=================================================================\n",
            " sequential (Sequential)     (None, 1000, 1200, 3)     0         \n",
            "                                                                 \n",
            " sequential_2 (Sequential)   (None, 800, 800, 3)       0         \n",
            "                                                                 \n",
            " sequential_1 (Sequential)   (None, 800, 800, 3)       0         \n",
            "                                                                 \n",
            " conv2d (Conv2D)             (None, 800, 800, 32)      896       \n",
            "                                                                 \n",
            " max_pooling2d (MaxPooling2D  (None, 400, 400, 32)     0         \n",
            " )                                                               \n",
            "                                                                 \n",
            " conv2d_1 (Conv2D)           (None, 400, 400, 32)      9248      \n",
            "                                                                 \n",
            " max_pooling2d_1 (MaxPooling  (None, 200, 200, 32)     0         \n",
            " 2D)                                                             \n",
            "                                                                 \n",
            " conv2d_2 (Conv2D)           (None, 200, 200, 64)      18496     \n",
            "                                                                 \n",
            " max_pooling2d_2 (MaxPooling  (None, 100, 100, 64)     0         \n",
            " 2D)                                                             \n",
            "                                                                 \n",
            " dropout (Dropout)           (None, 100, 100, 64)      0         \n",
            "                                                                 \n",
            " flatten (Flatten)           (None, 640000)            0         \n",
            "                                                                 \n",
            " dense (Dense)               (None, 256)               163840256 \n",
            "                                                                 \n",
            " dense_1 (Dense)             (None, 4)                 1028      \n",
            "                                                                 \n",
            "=================================================================\n",
            "Total params: 163,869,924\n",
            "Trainable params: 163,869,924\n",
            "Non-trainable params: 0\n",
            "_________________________________________________________________\n"
          ]
        }
      ]
    },
    {
      "cell_type": "code",
      "source": [
        "# Function courtesy of https://gist.github.com/jamesmishra/34bac09176bc07b1f0c33886e4b19dc7\n",
        "def keras_model_memory_usage_in_bytes(model, *, batch_size: int):\n",
        "    \"\"\"\n",
        "    Return the estimated memory usage of a given Keras model in bytes.\n",
        "    This includes the model weights and layers, but excludes the dataset.\n",
        "\n",
        "    The model shapes are multipled by the batch size, but the weights are not.\n",
        "\n",
        "    Args:\n",
        "        model: A Keras model.\n",
        "        batch_size: The batch size you intend to run the model with. If you\n",
        "            have already specified the batch size in the model itself, then\n",
        "            pass `1` as the argument here.\n",
        "    Returns:\n",
        "        An estimate of the Keras model's memory usage in bytes.\n",
        "\n",
        "    \"\"\"\n",
        "    default_dtype = tf.keras.backend.floatx()\n",
        "    shapes_mem_count = 0\n",
        "    internal_model_mem_count = 0\n",
        "    for layer in model.layers:\n",
        "        if isinstance(layer, tf.keras.Model):\n",
        "            internal_model_mem_count += keras_model_memory_usage_in_bytes(\n",
        "                layer, batch_size=batch_size\n",
        "            )\n",
        "        single_layer_mem = tf.as_dtype(layer.dtype or default_dtype).size\n",
        "        out_shape = layer.output_shape\n",
        "        if isinstance(out_shape, list):\n",
        "            out_shape = out_shape[0]\n",
        "        for s in out_shape:\n",
        "            if s is None:\n",
        "                continue\n",
        "            single_layer_mem *= s\n",
        "        shapes_mem_count += single_layer_mem\n",
        "\n",
        "    trainable_count = sum(\n",
        "        [tf.keras.backend.count_params(p) for p in model.trainable_weights]\n",
        "    )\n",
        "    non_trainable_count = sum(\n",
        "        [tf.keras.backend.count_params(p) for p in model.non_trainable_weights]\n",
        "    )\n",
        "\n",
        "    total_memory = (\n",
        "        batch_size * shapes_mem_count\n",
        "        + internal_model_mem_count\n",
        "        + trainable_count\n",
        "        + non_trainable_count\n",
        "    )\n",
        "    return total_memory"
      ],
      "metadata": {
        "id": "o-C2S3EEKBvM"
      },
      "execution_count": 10,
      "outputs": []
    },
    {
      "cell_type": "code",
      "source": [
        "bytess = keras_model_memory_usage_in_bytes(model, batch_size=batch_size)\n",
        "gb = bytess / (1024*1024*1024)\n",
        "print(f'This model requires approximately {gb} Gigabytes to train')"
      ],
      "metadata": {
        "colab": {
          "base_uri": "https://localhost:8080/"
        },
        "id": "KfBQ0HFDKlI0",
        "outputId": "fc808a91-c2ae-4216-e5f1-b4c36da5d8c7"
      },
      "execution_count": 11,
      "outputs": [
        {
          "output_type": "stream",
          "name": "stdout",
          "text": [
            "This model requires approximately 2.448598299175501 Gigabytes to train\n"
          ]
        }
      ]
    },
    {
      "cell_type": "code",
      "source": [
        "# set number of training epochs\n",
        "epochs=10\n",
        "# train model - Kyle, again, sorry if this takes forever to run in Colab. Locally this model takes approx 10 seconds per epoch - Feel free to reduce epochs to save time\n",
        "history = model.fit(\n",
        "  train_ds,\n",
        "  validation_data=val_ds,\n",
        "  epochs=epochs\n",
        ")\n"
      ],
      "metadata": {
        "colab": {
          "base_uri": "https://localhost:8080/"
        },
        "id": "e9tFTK5oErZI",
        "outputId": "7d12b8e9-346c-4b5f-9bf1-d0b681ab9964"
      },
      "execution_count": 12,
      "outputs": [
        {
          "output_type": "stream",
          "name": "stdout",
          "text": [
            "Epoch 1/10\n",
            "14/14 [==============================] - 192s 13s/step - loss: 19.1819 - accuracy: 0.2500 - val_loss: 1.7213 - val_accuracy: 0.3750\n",
            "Epoch 2/10\n",
            "14/14 [==============================] - 152s 11s/step - loss: 1.1582 - accuracy: 0.4563 - val_loss: 1.0414 - val_accuracy: 0.4250\n",
            "Epoch 3/10\n",
            "14/14 [==============================] - 159s 11s/step - loss: 1.0093 - accuracy: 0.5125 - val_loss: 1.0136 - val_accuracy: 0.4250\n",
            "Epoch 4/10\n",
            "14/14 [==============================] - 155s 11s/step - loss: 0.9152 - accuracy: 0.5250 - val_loss: 0.9220 - val_accuracy: 0.5000\n",
            "Epoch 5/10\n",
            "14/14 [==============================] - 154s 11s/step - loss: 1.1283 - accuracy: 0.5063 - val_loss: 1.1955 - val_accuracy: 0.5500\n",
            "Epoch 6/10\n",
            "14/14 [==============================] - 159s 11s/step - loss: 0.9490 - accuracy: 0.5562 - val_loss: 0.9972 - val_accuracy: 0.4250\n",
            "Epoch 7/10\n",
            "14/14 [==============================] - 155s 11s/step - loss: 0.7282 - accuracy: 0.6625 - val_loss: 0.6982 - val_accuracy: 0.7250\n",
            "Epoch 8/10\n",
            "14/14 [==============================] - 160s 11s/step - loss: 0.6061 - accuracy: 0.7500 - val_loss: 2.1412 - val_accuracy: 0.6500\n",
            "Epoch 9/10\n",
            "14/14 [==============================] - 161s 12s/step - loss: 0.7401 - accuracy: 0.6500 - val_loss: 0.5608 - val_accuracy: 0.7250\n",
            "Epoch 10/10\n",
            "14/14 [==============================] - 160s 11s/step - loss: 0.6072 - accuracy: 0.7937 - val_loss: 0.7898 - val_accuracy: 0.6750\n"
          ]
        }
      ]
    },
    {
      "cell_type": "code",
      "source": [
        "# get training and validation accuracy\n",
        "training_accuracy = history.history['accuracy']\n",
        "validation_accuracy = history.history['val_accuracy']\n",
        "# get training and validation loss\n",
        "training_loss = history.history['loss']\n",
        "validation_loss = history.history['val_loss']\n",
        "\n",
        "epochs_range = range(epochs)\n",
        "\n",
        "plt.figure(figsize=(8, 8))\n",
        "plt.subplot(1, 2, 1)\n",
        "plt.plot(epochs_range, training_accuracy, label='Training Accuracy')\n",
        "plt.plot(epochs_range, validation_accuracy, label='Validation Accuracy')\n",
        "plt.legend(loc='lower right')\n",
        "plt.title('Training and Validation Accuracy')\n",
        "\n",
        "plt.subplot(1, 2, 2)\n",
        "plt.plot(epochs_range, training_loss, label='Training Loss')\n",
        "plt.plot(epochs_range, validation_loss, label='Validation Loss')\n",
        "plt.legend(loc='upper right')\n",
        "plt.title('Training and Validation Loss')\n",
        "plt.show()\n"
      ],
      "metadata": {
        "colab": {
          "base_uri": "https://localhost:8080/",
          "height": 499
        },
        "id": "0wHVSC_FEt1O",
        "outputId": "be014792-def4-4d2d-da51-6dcccaa6f7ac"
      },
      "execution_count": 13,
      "outputs": [
        {
          "output_type": "display_data",
          "data": {
            "image/png": "[encoded data removed]",
            "text/plain": [
              "<Figure size 576x576 with 2 Axes>"
            ]
          },
          "metadata": {
            "needs_background": "light"
          }
        }
      ]
    },
    {
      "cell_type": "markdown",
      "source": [
        "Plot of The model training/validation accuracy and training/validation loss.\n",
        "\n"
      ],
      "metadata": {
        "id": "25oC60lbmLeT"
      }
    },
    {
      "cell_type": "code",
      "source": [
        "# custom function for predicting single files. \n",
        "\n",
        "def predict_file(file):\n",
        "    if not file.endswith('png'):\n",
        "      return {'File': file, 'Class': 'Inavlid input file', 'Confidence': 'Inavlid input file'}\n",
        "\n",
        "    # load image\n",
        "    iso1 = tf.keras.utils.load_img(file, target_size=(img_height, img_width), color_mode=c_mode)\n",
        "    # convert to array\n",
        "    img_array = tf.keras.utils.img_to_array(iso1)\n",
        "    # expand array dimensions to create a batch of 1 for model input\n",
        "    img_array = tf.expand_dims(img_array, 0)  # Create a batch\n",
        "\n",
        "    # predict\n",
        "    predictions = model.predict(img_array)\n",
        "    # get list of class probabilities\n",
        "    score = tf.nn.softmax(predictions[0])\n",
        "    # np.argmax returns the index of the largest probability in the list, use to retireve class name\n",
        "    predicted = class_names[np.argmax(score)]\n",
        "    # confidence is max probability as a percentage\n",
        "    confidence = 100 * np.max(score)\n",
        "\n",
        "    print(\n",
        "        \"{} most likely belongs to {} with a {:.2f} percent confidence.\"\n",
        "            .format(file, predicted, confidence)\n",
        "    )\n",
        "    # return with \n",
        "    return {'File': file, 'Class': predicted, 'Confidence': confidence}\n"
      ],
      "metadata": {
        "id": "l3drSckun5pr"
      },
      "execution_count": 14,
      "outputs": []
    },
    {
      "cell_type": "code",
      "source": [
        "# custom function for evaluating model\n",
        "# \n",
        "def evaluate_model():\n",
        "    test_files = []\n",
        "    for file in os.listdir(EVAL_DIR):\n",
        "        file = EVAL_DIR + file\n",
        "        if 'Isometric' in file:\n",
        "            test_files.append({'File': file, 'Class': 'Isometric'})\n",
        "        if 'pid' in file:\n",
        "            test_files.append({'File': file, 'Class': 'Piping and Instrumentation Diagram'})\n",
        "        if 'photo' in file:\n",
        "            test_files.append({'File': file, 'Class': 'Photo'})\n",
        "        if 'Detail' in file:\n",
        "            test_files.append({'File': file, 'Class': 'Detail Drawing'})\n",
        "\n",
        "    confusion_matrix = {'Isometric': {'Isometric': 0, 'Piping and Instrumentation Diagram': 0, 'Photo': 0, 'Detail Drawing': 0},\n",
        "                        'Piping and Instrumentation Diagram': {'Isometric': 0, 'Piping and Instrumentation Diagram': 0, 'Photo': 0, 'Detail Drawing': 0},\n",
        "                        'Photo': {'Isometric': 0, 'Piping and Instrumentation Diagram': 0, 'Photo': 0, 'Detail Drawing': 0},\n",
        "                        'Detail Drawing': {'Isometric': 0, 'Piping and Instrumentation Diagram': 0, 'Photo': 0, 'Detail Drawing': 0}}\n",
        "\n",
        "    for dic in test_files:\n",
        "        #print(dic['File'])\n",
        "        prediction = predict_file(dic['File'])\n",
        "        prediction = prediction['Class']\n",
        "        classification = dic['Class']\n",
        "        if prediction == classification:\n",
        "            confusion_matrix[classification][classification] += 1\n",
        "        else:\n",
        "            confusion_matrix[classification][prediction] += 1\n",
        "\n",
        "    confusion_matrix_df = pd.DataFrame(confusion_matrix)\n",
        "    classes = ['Isometric', 'Piping and Instrumentation Diagram', 'Photo', 'Detail Drawing']\n",
        "    class_stats = []\n",
        "    for c in classes:\n",
        "        other_classes = [cls for cls in classes if cls != c]\n",
        "        TP = confusion_matrix_df[c][c]\n",
        "        TN = 0\n",
        "        for o_c in other_classes:\n",
        "            for oo_c in other_classes:\n",
        "                TN += confusion_matrix_df[o_c][oo_c]\n",
        "        FP_row = confusion_matrix_df.loc[c]\n",
        "        FP = 0\n",
        "        for i, item in FP_row.iteritems():\n",
        "            if i != c:\n",
        "                FP += item\n",
        "        FN_col = confusion_matrix_df[c]\n",
        "        FN = 0\n",
        "        for j, row in FN_col.iteritems():\n",
        "            if j != c:\n",
        "                FN += row\n",
        "        precision = TP / (FP + TP)\n",
        "        recall = TP / (TP + FN)\n",
        "        F1 = harmonic_mean([precision, recall])\n",
        "        class_stats.append(\n",
        "            {'Class': c, 'TP': TP, 'TN': TN, 'FP': FP, 'FN': FN, 'Precision': precision, 'Recall': recall, 'F1': F1})\n",
        "    print()\n",
        "    class_stats_df = pd.DataFrame(class_stats)\n",
        "    Total_TP = class_stats_df['TP'].sum()\n",
        "    Total_FP = class_stats_df['FP'].sum()\n",
        "    Total_TN = class_stats_df['TN'].sum()\n",
        "    Total_FN = class_stats_df['FN'].sum()\n",
        "    Total_precision = Total_TP / (Total_TP + Total_FN)\n",
        "    Total_Recall = Total_TP / (Total_TP + Total_FN)  # Killer movie, man\n",
        "    Micro_F1 = harmonic_mean([Total_precision, Total_Recall])\n",
        "    Macro_F1 = class_stats_df['F1'].sum() / 4\n",
        "    model_stats = [{'TP': Total_TP, 'TN': Total_TN, 'FP': Total_FP, 'FN': Total_FN, 'Precision': Total_precision,\n",
        "                   'Recall': Total_Recall, 'Micro F1': Micro_F1, 'Macro F1': Macro_F1}]\n",
        "    model_stats_df = pd.DataFrame(model_stats)\n",
        "    return confusion_matrix_df, class_stats_df, model_stats_df"
      ],
      "metadata": {
        "id": "e98LNPFh3C42"
      },
      "execution_count": 15,
      "outputs": []
    },
    {
      "cell_type": "code",
      "source": [
        "confusion_matrix, class_stats, model_stats = evaluate_model()\n",
        "#confusion_matrix()"
      ],
      "metadata": {
        "colab": {
          "base_uri": "https://localhost:8080/"
        },
        "id": "N7v2YAMH6Wz5",
        "outputId": "53911b59-427e-4460-ea95-2baff7489c2c"
      },
      "execution_count": 16,
      "outputs": [
        {
          "output_type": "stream",
          "name": "stdout",
          "text": [
            "/content/drive/MyDrive/Evaluation Data Set/Detail Drawing (4).png most likely belongs to Piping and Instrumentation Diagram with a 65.57 percent confidence.\n",
            "/content/drive/MyDrive/Evaluation Data Set/Detail Drawing (7).png most likely belongs to Detail Drawing with a 46.24 percent confidence.\n",
            "/content/drive/MyDrive/Evaluation Data Set/Detail Drawing (1).png most likely belongs to Detail Drawing with a 72.64 percent confidence.\n",
            "/content/drive/MyDrive/Evaluation Data Set/Detail Drawing (8).png most likely belongs to Piping and Instrumentation Diagram with a 52.46 percent confidence.\n",
            "/content/drive/MyDrive/Evaluation Data Set/Detail Drawing (9).png most likely belongs to Piping and Instrumentation Diagram with a 49.92 percent confidence.\n",
            "/content/drive/MyDrive/Evaluation Data Set/Isometric (1).png most likely belongs to Piping and Instrumentation Diagram with a 55.42 percent confidence.\n",
            "/content/drive/MyDrive/Evaluation Data Set/Isometric (4).png most likely belongs to Detail Drawing with a 50.50 percent confidence.\n",
            "/content/drive/MyDrive/Evaluation Data Set/Isometric (7).png most likely belongs to Piping and Instrumentation Diagram with a 55.56 percent confidence.\n",
            "/content/drive/MyDrive/Evaluation Data Set/Isometric (2).png most likely belongs to Detail Drawing with a 84.84 percent confidence.\n",
            "/content/drive/MyDrive/Evaluation Data Set/pid (3).png most likely belongs to Piping and Instrumentation Diagram with a 77.87 percent confidence.\n",
            "/content/drive/MyDrive/Evaluation Data Set/photo (4).png most likely belongs to Photo with a 98.08 percent confidence.\n",
            "/content/drive/MyDrive/Evaluation Data Set/photo (5).png most likely belongs to Photo with a 99.99 percent confidence.\n",
            "/content/drive/MyDrive/Evaluation Data Set/pid (1).png most likely belongs to Piping and Instrumentation Diagram with a 69.94 percent confidence.\n",
            "/content/drive/MyDrive/Evaluation Data Set/pid (4).png most likely belongs to Piping and Instrumentation Diagram with a 66.80 percent confidence.\n",
            "/content/drive/MyDrive/Evaluation Data Set/pid (5).png most likely belongs to Piping and Instrumentation Diagram with a 71.83 percent confidence.\n",
            "/content/drive/MyDrive/Evaluation Data Set/Detail Drawing (2).png most likely belongs to Detail Drawing with a 60.34 percent confidence.\n",
            "/content/drive/MyDrive/Evaluation Data Set/Detail Drawing (5).png most likely belongs to Detail Drawing with a 42.27 percent confidence.\n",
            "/content/drive/MyDrive/Evaluation Data Set/pid (8).png most likely belongs to Piping and Instrumentation Diagram with a 61.85 percent confidence.\n",
            "/content/drive/MyDrive/Evaluation Data Set/Isometric (6).png most likely belongs to Piping and Instrumentation Diagram with a 61.76 percent confidence.\n",
            "/content/drive/MyDrive/Evaluation Data Set/Isometric (10).png most likely belongs to Isometric with a 64.73 percent confidence.\n",
            "/content/drive/MyDrive/Evaluation Data Set/pid (6).png most likely belongs to Piping and Instrumentation Diagram with a 65.31 percent confidence.\n",
            "/content/drive/MyDrive/Evaluation Data Set/pid (2).png most likely belongs to Piping and Instrumentation Diagram with a 61.18 percent confidence.\n",
            "/content/drive/MyDrive/Evaluation Data Set/Detail Drawing (10).png most likely belongs to Piping and Instrumentation Diagram with a 56.13 percent confidence.\n",
            "/content/drive/MyDrive/Evaluation Data Set/Detail Drawing (6).png most likely belongs to Detail Drawing with a 60.11 percent confidence.\n",
            "/content/drive/MyDrive/Evaluation Data Set/Isometric (5).png most likely belongs to Detail Drawing with a 53.00 percent confidence.\n",
            "/content/drive/MyDrive/Evaluation Data Set/photo (6).png most likely belongs to Photo with a 100.00 percent confidence.\n",
            "/content/drive/MyDrive/Evaluation Data Set/Detail Drawing (3).png most likely belongs to Piping and Instrumentation Diagram with a 66.85 percent confidence.\n",
            "/content/drive/MyDrive/Evaluation Data Set/pid (7).png most likely belongs to Piping and Instrumentation Diagram with a 65.55 percent confidence.\n",
            "/content/drive/MyDrive/Evaluation Data Set/pid (9).png most likely belongs to Piping and Instrumentation Diagram with a 60.78 percent confidence.\n",
            "/content/drive/MyDrive/Evaluation Data Set/Isometric (3).png most likely belongs to Detail Drawing with a 68.46 percent confidence.\n",
            "/content/drive/MyDrive/Evaluation Data Set/Isometric (9).png most likely belongs to Detail Drawing with a 87.29 percent confidence.\n",
            "/content/drive/MyDrive/Evaluation Data Set/pid (10).png most likely belongs to Piping and Instrumentation Diagram with a 61.65 percent confidence.\n",
            "/content/drive/MyDrive/Evaluation Data Set/photo (1).png most likely belongs to Photo with a 100.00 percent confidence.\n",
            "/content/drive/MyDrive/Evaluation Data Set/photo (8).png most likely belongs to Photo with a 99.96 percent confidence.\n",
            "/content/drive/MyDrive/Evaluation Data Set/photo (7).png most likely belongs to Photo with a 100.00 percent confidence.\n",
            "/content/drive/MyDrive/Evaluation Data Set/photo (3).png most likely belongs to Photo with a 100.00 percent confidence.\n",
            "/content/drive/MyDrive/Evaluation Data Set/photo (2).png most likely belongs to Photo with a 100.00 percent confidence.\n",
            "/content/drive/MyDrive/Evaluation Data Set/photo (9).png most likely belongs to Photo with a 95.78 percent confidence.\n",
            "/content/drive/MyDrive/Evaluation Data Set/photo (10).png most likely belongs to Photo with a 98.25 percent confidence.\n",
            "/content/drive/MyDrive/Evaluation Data Set/Isometric (11).png most likely belongs to Piping and Instrumentation Diagram with a 49.45 percent confidence.\n",
            "\n"
          ]
        }
      ]
    },
    {
      "cell_type": "code",
      "source": [
        "from google.colab import data_table\n",
        "data_table.enable_dataframe_formatter()\n",
        "\n",
        "#Display Confusion Matrix\n",
        "data_table.DataTable(confusion_matrix)"
      ],
      "metadata": {
        "id": "w5dCuYVM7wpc",
        "colab": {
          "base_uri": "https://localhost:8080/",
          "height": 178
        },
        "outputId": "27df552a-78a0-4ec6-da45-5eebee1042ba"
      },
      "execution_count": 17,
      "outputs": [
        {
          "output_type": "execute_result",
          "data": {
            "application/vnd.google.colaboratory.module+javascript": "\n      import \"https://ssl.gstatic.com/colaboratory/data_table/81f25a011006ed3d/data_table.js\";\n\n      window.createDataTable({\n        data: [[\"Isometric\",\n{\n            'v': 1,\n            'f': \"1\",\n        },\n{\n            'v': 0,\n            'f': \"0\",\n        },\n{\n            'v': 0,\n            'f': \"0\",\n        },\n{\n            'v': 0,\n            'f': \"0\",\n        }],\n [\"Piping and Instrumentation Diagram\",\n{\n            'v': 4,\n            'f': \"4\",\n        },\n{\n            'v': 10,\n            'f': \"10\",\n        },\n{\n            'v': 0,\n            'f': \"0\",\n        },\n{\n            'v': 5,\n            'f': \"5\",\n        }],\n [\"Photo\",\n{\n            'v': 0,\n            'f': \"0\",\n        },\n{\n            'v': 0,\n            'f': \"0\",\n        },\n{\n            'v': 10,\n            'f': \"10\",\n        },\n{\n            'v': 0,\n            'f': \"0\",\n        }],\n [\"Detail Drawing\",\n{\n            'v': 5,\n            'f': \"5\",\n        },\n{\n            'v': 0,\n            'f': \"0\",\n        },\n{\n            'v': 0,\n            'f': \"0\",\n        },\n{\n            'v': 5,\n            'f': \"5\",\n        }]],\n        columns: [[\"string\", \"index\"], [\"number\", \"Isometric\"], [\"number\", \"Piping and Instrumentation Diagram\"], [\"number\", \"Photo\"], [\"number\", \"Detail Drawing\"]],\n        columnOptions: [{\"width\": \"1px\", \"className\": \"index_column\"}],\n        rowsPerPage: 25,\n        helpUrl: \"https://colab.research.google.com/notebooks/data_table.ipynb\",\n        suppressOutputScrolling: true,\n        minimumWidth: undefined,\n      });\n    ",
            "text/plain": [
              "<google.colab.data_table.DataTable object>"
            ],
            "text/html": [
              "<div>\n",
              "<style scoped>\n",
              "    .dataframe tbody tr th:only-of-type {\n",
              "        vertical-align: middle;\n",
              "    }\n",
              "\n",
              "    .dataframe tbody tr th {\n",
              "        vertical-align: top;\n",
              "    }\n",
              "\n",
              "    .dataframe thead th {\n",
              "        text-align: right;\n",
              "    }\n",
              "</style>\n",
              "<table border=\"1\" class=\"dataframe\">\n",
              "  <thead>\n",
              "    <tr style=\"text-align: right;\">\n",
              "      <th></th>\n",
              "      <th>Isometric</th>\n",
              "      <th>Piping and Instrumentation Diagram</th>\n",
              "      <th>Photo</th>\n",
              "      <th>Detail Drawing</th>\n",
              "    </tr>\n",
              "  </thead>\n",
              "  <tbody>\n",
              "    <tr>\n",
              "      <th>Isometric</th>\n",
              "      <td>1</td>\n",
              "      <td>0</td>\n",
              "      <td>0</td>\n",
              "      <td>0</td>\n",
              "    </tr>\n",
              "    <tr>\n",
              "      <th>Piping and Instrumentation Diagram</th>\n",
              "      <td>4</td>\n",
              "      <td>10</td>\n",
              "      <td>0</td>\n",
              "      <td>5</td>\n",
              "    </tr>\n",
              "    <tr>\n",
              "      <th>Photo</th>\n",
              "      <td>0</td>\n",
              "      <td>0</td>\n",
              "      <td>10</td>\n",
              "      <td>0</td>\n",
              "    </tr>\n",
              "    <tr>\n",
              "      <th>Detail Drawing</th>\n",
              "      <td>5</td>\n",
              "      <td>0</td>\n",
              "      <td>0</td>\n",
              "      <td>5</td>\n",
              "    </tr>\n",
              "  </tbody>\n",
              "</table>\n",
              "</div>"
            ]
          },
          "metadata": {},
          "execution_count": 17
        }
      ]
    },
    {
      "cell_type": "code",
      "source": [
        "#Display Class Stats\n",
        "data_table.DataTable(class_stats)"
      ],
      "metadata": {
        "id": "zUh2JEBD8BWA",
        "colab": {
          "base_uri": "https://localhost:8080/",
          "height": 178
        },
        "outputId": "33f71e8d-c988-4cd2-d862-92a5bb250cc0"
      },
      "execution_count": 18,
      "outputs": [
        {
          "output_type": "execute_result",
          "data": {
            "application/vnd.google.colaboratory.module+javascript": "\n      import \"https://ssl.gstatic.com/colaboratory/data_table/81f25a011006ed3d/data_table.js\";\n\n      window.createDataTable({\n        data: [[{\n            'v': 0,\n            'f': \"0\",\n        },\n\"Isometric\",\n{\n            'v': 1,\n            'f': \"1\",\n        },\n{\n            'v': 30,\n            'f': \"30\",\n        },\n{\n            'v': 0,\n            'f': \"0\",\n        },\n{\n            'v': 9,\n            'f': \"9\",\n        },\n{\n            'v': 1.0,\n            'f': \"1.0\",\n        },\n{\n            'v': 0.1,\n            'f': \"0.1\",\n        },\n{\n            'v': 0.18181818181818182,\n            'f': \"0.18181818181818182\",\n        }],\n [{\n            'v': 1,\n            'f': \"1\",\n        },\n\"Piping and Instrumentation Diagram\",\n{\n            'v': 10,\n            'f': \"10\",\n        },\n{\n            'v': 21,\n            'f': \"21\",\n        },\n{\n            'v': 9,\n            'f': \"9\",\n        },\n{\n            'v': 0,\n            'f': \"0\",\n        },\n{\n            'v': 0.5263157894736842,\n            'f': \"0.5263157894736842\",\n        },\n{\n            'v': 1.0,\n            'f': \"1.0\",\n        },\n{\n            'v': 0.689655172413793,\n            'f': \"0.689655172413793\",\n        }],\n [{\n            'v': 2,\n            'f': \"2\",\n        },\n\"Photo\",\n{\n            'v': 10,\n            'f': \"10\",\n        },\n{\n            'v': 30,\n            'f': \"30\",\n        },\n{\n            'v': 0,\n            'f': \"0\",\n        },\n{\n            'v': 0,\n            'f': \"0\",\n        },\n{\n            'v': 1.0,\n            'f': \"1.0\",\n        },\n{\n            'v': 1.0,\n            'f': \"1.0\",\n        },\n{\n            'v': 1.0,\n            'f': \"1.0\",\n        }],\n [{\n            'v': 3,\n            'f': \"3\",\n        },\n\"Detail Drawing\",\n{\n            'v': 5,\n            'f': \"5\",\n        },\n{\n            'v': 25,\n            'f': \"25\",\n        },\n{\n            'v': 5,\n            'f': \"5\",\n        },\n{\n            'v': 5,\n            'f': \"5\",\n        },\n{\n            'v': 0.5,\n            'f': \"0.5\",\n        },\n{\n            'v': 0.5,\n            'f': \"0.5\",\n        },\n{\n            'v': 0.5,\n            'f': \"0.5\",\n        }]],\n        columns: [[\"number\", \"index\"], [\"string\", \"Class\"], [\"number\", \"TP\"], [\"number\", \"TN\"], [\"number\", \"FP\"], [\"number\", \"FN\"], [\"number\", \"Precision\"], [\"number\", \"Recall\"], [\"number\", \"F1\"]],\n        columnOptions: [{\"width\": \"1px\", \"className\": \"index_column\"}],\n        rowsPerPage: 25,\n        helpUrl: \"https://colab.research.google.com/notebooks/data_table.ipynb\",\n        suppressOutputScrolling: true,\n        minimumWidth: undefined,\n      });\n    ",
            "text/plain": [
              "<google.colab.data_table.DataTable object>"
            ],
            "text/html": [
              "<div>\n",
              "<style scoped>\n",
              "    .dataframe tbody tr th:only-of-type {\n",
              "        vertical-align: middle;\n",
              "    }\n",
              "\n",
              "    .dataframe tbody tr th {\n",
              "        vertical-align: top;\n",
              "    }\n",
              "\n",
              "    .dataframe thead th {\n",
              "        text-align: right;\n",
              "    }\n",
              "</style>\n",
              "<table border=\"1\" class=\"dataframe\">\n",
              "  <thead>\n",
              "    <tr style=\"text-align: right;\">\n",
              "      <th></th>\n",
              "      <th>Class</th>\n",
              "      <th>TP</th>\n",
              "      <th>TN</th>\n",
              "      <th>FP</th>\n",
              "      <th>FN</th>\n",
              "      <th>Precision</th>\n",
              "      <th>Recall</th>\n",
              "      <th>F1</th>\n",
              "    </tr>\n",
              "  </thead>\n",
              "  <tbody>\n",
              "    <tr>\n",
              "      <th>0</th>\n",
              "      <td>Isometric</td>\n",
              "      <td>1</td>\n",
              "      <td>30</td>\n",
              "      <td>0</td>\n",
              "      <td>9</td>\n",
              "      <td>1.000000</td>\n",
              "      <td>0.1</td>\n",
              "      <td>0.181818</td>\n",
              "    </tr>\n",
              "    <tr>\n",
              "      <th>1</th>\n",
              "      <td>Piping and Instrumentation Diagram</td>\n",
              "      <td>10</td>\n",
              "      <td>21</td>\n",
              "      <td>9</td>\n",
              "      <td>0</td>\n",
              "      <td>0.526316</td>\n",
              "      <td>1.0</td>\n",
              "      <td>0.689655</td>\n",
              "    </tr>\n",
              "    <tr>\n",
              "      <th>2</th>\n",
              "      <td>Photo</td>\n",
              "      <td>10</td>\n",
              "      <td>30</td>\n",
              "      <td>0</td>\n",
              "      <td>0</td>\n",
              "      <td>1.000000</td>\n",
              "      <td>1.0</td>\n",
              "      <td>1.000000</td>\n",
              "    </tr>\n",
              "    <tr>\n",
              "      <th>3</th>\n",
              "      <td>Detail Drawing</td>\n",
              "      <td>5</td>\n",
              "      <td>25</td>\n",
              "      <td>5</td>\n",
              "      <td>5</td>\n",
              "      <td>0.500000</td>\n",
              "      <td>0.5</td>\n",
              "      <td>0.500000</td>\n",
              "    </tr>\n",
              "  </tbody>\n",
              "</table>\n",
              "</div>"
            ]
          },
          "metadata": {},
          "execution_count": 18
        }
      ]
    },
    {
      "cell_type": "code",
      "source": [
        "#Display Model Stats\n",
        "data_table.DataTable(model_stats)"
      ],
      "metadata": {
        "id": "Wt69haan8EiS",
        "colab": {
          "base_uri": "https://localhost:8080/",
          "height": 114
        },
        "outputId": "9b91eebd-edd5-4bac-f7ce-014ff3fbcb4c"
      },
      "execution_count": 19,
      "outputs": [
        {
          "output_type": "execute_result",
          "data": {
            "application/vnd.google.colaboratory.module+javascript": "\n      import \"https://ssl.gstatic.com/colaboratory/data_table/81f25a011006ed3d/data_table.js\";\n\n      window.createDataTable({\n        data: [[{\n            'v': 0,\n            'f': \"0\",\n        },\n{\n            'v': 26,\n            'f': \"26\",\n        },\n{\n            'v': 106,\n            'f': \"106\",\n        },\n{\n            'v': 14,\n            'f': \"14\",\n        },\n{\n            'v': 14,\n            'f': \"14\",\n        },\n{\n            'v': 0.65,\n            'f': \"0.65\",\n        },\n{\n            'v': 0.65,\n            'f': \"0.65\",\n        },\n{\n            'v': 0.65,\n            'f': \"0.65\",\n        },\n{\n            'v': 0.5928683385579937,\n            'f': \"0.5928683385579937\",\n        }]],\n        columns: [[\"number\", \"index\"], [\"number\", \"TP\"], [\"number\", \"TN\"], [\"number\", \"FP\"], [\"number\", \"FN\"], [\"number\", \"Precision\"], [\"number\", \"Recall\"], [\"number\", \"Micro F1\"], [\"number\", \"Macro F1\"]],\n        columnOptions: [{\"width\": \"1px\", \"className\": \"index_column\"}],\n        rowsPerPage: 25,\n        helpUrl: \"https://colab.research.google.com/notebooks/data_table.ipynb\",\n        suppressOutputScrolling: true,\n        minimumWidth: undefined,\n      });\n    ",
            "text/plain": [
              "<google.colab.data_table.DataTable object>"
            ],
            "text/html": [
              "<div>\n",
              "<style scoped>\n",
              "    .dataframe tbody tr th:only-of-type {\n",
              "        vertical-align: middle;\n",
              "    }\n",
              "\n",
              "    .dataframe tbody tr th {\n",
              "        vertical-align: top;\n",
              "    }\n",
              "\n",
              "    .dataframe thead th {\n",
              "        text-align: right;\n",
              "    }\n",
              "</style>\n",
              "<table border=\"1\" class=\"dataframe\">\n",
              "  <thead>\n",
              "    <tr style=\"text-align: right;\">\n",
              "      <th></th>\n",
              "      <th>TP</th>\n",
              "      <th>TN</th>\n",
              "      <th>FP</th>\n",
              "      <th>FN</th>\n",
              "      <th>Precision</th>\n",
              "      <th>Recall</th>\n",
              "      <th>Micro F1</th>\n",
              "      <th>Macro F1</th>\n",
              "    </tr>\n",
              "  </thead>\n",
              "  <tbody>\n",
              "    <tr>\n",
              "      <th>0</th>\n",
              "      <td>26</td>\n",
              "      <td>106</td>\n",
              "      <td>14</td>\n",
              "      <td>14</td>\n",
              "      <td>0.65</td>\n",
              "      <td>0.65</td>\n",
              "      <td>0.65</td>\n",
              "      <td>0.592868</td>\n",
              "    </tr>\n",
              "  </tbody>\n",
              "</table>\n",
              "</div>"
            ]
          },
          "metadata": {},
          "execution_count": 19
        }
      ]
    }
  ]
}